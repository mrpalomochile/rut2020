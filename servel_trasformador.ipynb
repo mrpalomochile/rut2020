{
  "nbformat": 4,
  "nbformat_minor": 0,
  "metadata": {
    "colab": {
      "name": "servel-trasformador.ipynb",
      "provenance": []
    },
    "kernelspec": {
      "name": "python3",
      "display_name": "Python 3"
    }
  },
  "cells": [
    {
      "cell_type": "code",
      "metadata": {
        "id": "RyiAYnSRrX0w",
        "outputId": "cd63c45b-23d7-4fbe-c39e-52ec945b72ec",
        "colab": {
          "base_uri": "https://localhost:8080/"
        }
      },
      "source": [
        "from google.colab import drive\n",
        "drive.mount('/content/drive')"
      ],
      "execution_count": 2,
      "outputs": [
        {
          "output_type": "stream",
          "text": [
            "Mounted at /content/drive\n"
          ],
          "name": "stdout"
        }
      ]
    },
    {
      "cell_type": "code",
      "metadata": {
        "id": "3mpjOrhqMpsC",
        "outputId": "5fd014af-531b-4f6f-c9c7-df47eb4002bd",
        "colab": {
          "base_uri": "https://localhost:8080/",
          "height": 424
        }
      },
      "source": [
        "import pandas as pd\n",
        "!ls /content/drive/'My Drive'/'pdf servel' > ls.txt\n",
        "\n",
        "df=pd.read_csv(\"ls.txt\", header=None)\n",
        "\n",
        "dfs=pd.DataFrame(df[0].str.split(\".\",n = 1,expand = True))\n",
        "\n",
        "df[1]=dfs[0]\n",
        "df\n"
      ],
      "execution_count": 3,
      "outputs": [
        {
          "output_type": "execute_result",
          "data": {
            "text/html": [
              "<div>\n",
              "<style scoped>\n",
              "    .dataframe tbody tr th:only-of-type {\n",
              "        vertical-align: middle;\n",
              "    }\n",
              "\n",
              "    .dataframe tbody tr th {\n",
              "        vertical-align: top;\n",
              "    }\n",
              "\n",
              "    .dataframe thead th {\n",
              "        text-align: right;\n",
              "    }\n",
              "</style>\n",
              "<table border=\"1\" class=\"dataframe\">\n",
              "  <thead>\n",
              "    <tr style=\"text-align: right;\">\n",
              "      <th></th>\n",
              "      <th>0</th>\n",
              "      <th>1</th>\n",
              "    </tr>\n",
              "  </thead>\n",
              "  <tbody>\n",
              "    <tr>\n",
              "      <th>0</th>\n",
              "      <td>A01101.pdf</td>\n",
              "      <td>A01101</td>\n",
              "    </tr>\n",
              "    <tr>\n",
              "      <th>1</th>\n",
              "      <td>A01107.pdf</td>\n",
              "      <td>A01107</td>\n",
              "    </tr>\n",
              "    <tr>\n",
              "      <th>2</th>\n",
              "      <td>A01401.pdf</td>\n",
              "      <td>A01401</td>\n",
              "    </tr>\n",
              "    <tr>\n",
              "      <th>3</th>\n",
              "      <td>A01402.pdf</td>\n",
              "      <td>A01402</td>\n",
              "    </tr>\n",
              "    <tr>\n",
              "      <th>4</th>\n",
              "      <td>A01403.pdf</td>\n",
              "      <td>A01403</td>\n",
              "    </tr>\n",
              "    <tr>\n",
              "      <th>...</th>\n",
              "      <td>...</td>\n",
              "      <td>...</td>\n",
              "    </tr>\n",
              "    <tr>\n",
              "      <th>344</th>\n",
              "      <td>A16304.pdf</td>\n",
              "      <td>A16304</td>\n",
              "    </tr>\n",
              "    <tr>\n",
              "      <th>345</th>\n",
              "      <td>A16305.pdf</td>\n",
              "      <td>A16305</td>\n",
              "    </tr>\n",
              "    <tr>\n",
              "      <th>346</th>\n",
              "      <td>Nomina_Auditada_Inhabilitados_Chile.pdf</td>\n",
              "      <td>Nomina_Auditada_Inhabilitados_Chile</td>\n",
              "    </tr>\n",
              "    <tr>\n",
              "      <th>347</th>\n",
              "      <td>Nomina_Inhabilitados_Extranjero.pdf</td>\n",
              "      <td>Nomina_Inhabilitados_Extranjero</td>\n",
              "    </tr>\n",
              "    <tr>\n",
              "      <th>348</th>\n",
              "      <td>Padron_Electoral_Extranjero.pdf</td>\n",
              "      <td>Padron_Electoral_Extranjero</td>\n",
              "    </tr>\n",
              "  </tbody>\n",
              "</table>\n",
              "<p>349 rows × 2 columns</p>\n",
              "</div>"
            ],
            "text/plain": [
              "                                           0                                    1\n",
              "0                                 A01101.pdf                               A01101\n",
              "1                                 A01107.pdf                               A01107\n",
              "2                                 A01401.pdf                               A01401\n",
              "3                                 A01402.pdf                               A01402\n",
              "4                                 A01403.pdf                               A01403\n",
              "..                                       ...                                  ...\n",
              "344                               A16304.pdf                               A16304\n",
              "345                               A16305.pdf                               A16305\n",
              "346  Nomina_Auditada_Inhabilitados_Chile.pdf  Nomina_Auditada_Inhabilitados_Chile\n",
              "347      Nomina_Inhabilitados_Extranjero.pdf      Nomina_Inhabilitados_Extranjero\n",
              "348          Padron_Electoral_Extranjero.pdf          Padron_Electoral_Extranjero\n",
              "\n",
              "[349 rows x 2 columns]"
            ]
          },
          "metadata": {
            "tags": []
          },
          "execution_count": 3
        }
      ]
    },
    {
      "cell_type": "code",
      "metadata": {
        "id": "LJhfoHRxqs1S",
        "outputId": "a7837a11-926b-4125-c4b6-ad748a426eb6",
        "colab": {
          "base_uri": "https://localhost:8080/"
        }
      },
      "source": [
        "import pandas as pd\n",
        "!sudo apt-get install poppler-utils\n",
        "!sudo apt-get install qpdf\n",
        "\n",
        "!mkdir u\n",
        "\n",
        "for dfc in df[0]:\n",
        "  !qpdf --decrypt /content/drive/'My Drive'/'pdf servel'/$dfc /content/u/$dfc"
      ],
      "execution_count": 5,
      "outputs": [
        {
          "output_type": "stream",
          "text": [
            "Reading package lists... Done\n",
            "Building dependency tree       \n",
            "Reading state information... Done\n",
            "The following NEW packages will be installed:\n",
            "  poppler-utils\n",
            "0 upgraded, 1 newly installed, 0 to remove and 12 not upgraded.\n",
            "Need to get 154 kB of archives.\n",
            "After this operation, 613 kB of additional disk space will be used.\n",
            "Get:1 http://archive.ubuntu.com/ubuntu bionic-updates/main amd64 poppler-utils amd64 0.62.0-2ubuntu2.10 [154 kB]\n",
            "Fetched 154 kB in 1s (103 kB/s)\n",
            "debconf: unable to initialize frontend: Dialog\n",
            "debconf: (No usable dialog-like program is installed, so the dialog based frontend cannot be used. at /usr/share/perl5/Debconf/FrontEnd/Dialog.pm line 76, <> line 1.)\n",
            "debconf: falling back to frontend: Readline\n",
            "debconf: unable to initialize frontend: Readline\n",
            "debconf: (This frontend requires a controlling tty.)\n",
            "debconf: falling back to frontend: Teletype\n",
            "dpkg-preconfigure: unable to re-open stdin: \n",
            "Selecting previously unselected package poppler-utils.\n",
            "(Reading database ... 144786 files and directories currently installed.)\n",
            "Preparing to unpack .../poppler-utils_0.62.0-2ubuntu2.10_amd64.deb ...\n",
            "Unpacking poppler-utils (0.62.0-2ubuntu2.10) ...\n",
            "Setting up poppler-utils (0.62.0-2ubuntu2.10) ...\n",
            "Processing triggers for man-db (2.8.3-2ubuntu0.1) ...\n",
            "Reading package lists... Done\n",
            "Building dependency tree       \n",
            "Reading state information... Done\n",
            "The following additional packages will be installed:\n",
            "  libqpdf21\n",
            "The following NEW packages will be installed:\n",
            "  libqpdf21 qpdf\n",
            "0 upgraded, 2 newly installed, 0 to remove and 12 not upgraded.\n",
            "Need to get 527 kB of archives.\n",
            "After this operation, 1,438 kB of additional disk space will be used.\n",
            "Get:1 http://archive.ubuntu.com/ubuntu bionic/main amd64 libqpdf21 amd64 8.0.2-3 [289 kB]\n",
            "Get:2 http://archive.ubuntu.com/ubuntu bionic/main amd64 qpdf amd64 8.0.2-3 [238 kB]\n",
            "Fetched 527 kB in 2s (252 kB/s)\n",
            "debconf: unable to initialize frontend: Dialog\n",
            "debconf: (No usable dialog-like program is installed, so the dialog based frontend cannot be used. at /usr/share/perl5/Debconf/FrontEnd/Dialog.pm line 76, <> line 2.)\n",
            "debconf: falling back to frontend: Readline\n",
            "debconf: unable to initialize frontend: Readline\n",
            "debconf: (This frontend requires a controlling tty.)\n",
            "debconf: falling back to frontend: Teletype\n",
            "dpkg-preconfigure: unable to re-open stdin: \n",
            "Selecting previously unselected package libqpdf21:amd64.\n",
            "(Reading database ... 144814 files and directories currently installed.)\n",
            "Preparing to unpack .../libqpdf21_8.0.2-3_amd64.deb ...\n",
            "Unpacking libqpdf21:amd64 (8.0.2-3) ...\n",
            "Selecting previously unselected package qpdf.\n",
            "Preparing to unpack .../qpdf_8.0.2-3_amd64.deb ...\n",
            "Unpacking qpdf (8.0.2-3) ...\n",
            "Setting up libqpdf21:amd64 (8.0.2-3) ...\n",
            "Setting up qpdf (8.0.2-3) ...\n",
            "Processing triggers for man-db (2.8.3-2ubuntu0.1) ...\n",
            "Processing triggers for libc-bin (2.27-3ubuntu1.2) ...\n",
            "/sbin/ldconfig.real: /usr/local/lib/python3.6/dist-packages/ideep4py/lib/libmkldnn.so.0 is not a symbolic link\n",
            "\n"
          ],
          "name": "stdout"
        }
      ]
    },
    {
      "cell_type": "code",
      "metadata": {
        "id": "6MGt417svcO2",
        "outputId": "576d3a9a-db75-4d41-da57-f8943874607c",
        "colab": {
          "base_uri": "https://localhost:8080/"
        }
      },
      "source": [
        "import pandas as pd\n",
        "!sudo apt-get install poppler-utils\n",
        "\n",
        "!mkdir txt\n",
        "\n",
        "for i in range(len(df[0])):\n",
        "  a=df[1][i]+\".pdf\"\n",
        "  b=df[1][i]+\".txt\"\n",
        "  !pdftotext -raw /content/u/$a /content/txt/$b\n",
        "\n",
        "a=\"/content/txt/\"+df[1][0]+\".txt\"\n",
        "for dfc in df[1]:\n",
        "  if dfc == df[1][0]:\n",
        "    a=\"/content/txt/\"+dfc+\".txt \"\n",
        "  else :\n",
        "    a=a+\"/content/txt/\"+dfc+\".txt \"\n",
        "print(a)\n",
        "\n",
        "!cat $a  > final.txt\n",
        "\n",
        "!grep -a -i \" varon \" final.txt >varon.txt\n",
        "!grep -a -i \" mujer \" final.txt >mujer.txt\n",
        "!cat varon.txt mujer.txt > /content/drive/'My Drive'/finalrut.txt"
      ],
      "execution_count": 6,
      "outputs": [
        {
          "output_type": "stream",
          "text": [
            "Reading package lists... Done\n",
            "Building dependency tree       \n",
            "Reading state information... Done\n",
            "poppler-utils is already the newest version (0.62.0-2ubuntu2.10).\n",
            "0 upgraded, 0 newly installed, 0 to remove and 12 not upgraded.\n",
            "mkdir: cannot create directory ‘txt’: File exists\n",
            "/content/txt/A01101.txt /content/txt/A01107.txt /content/txt/A01401.txt /content/txt/A01402.txt /content/txt/A01403.txt /content/txt/A01404.txt /content/txt/A01405.txt /content/txt/A02101.txt /content/txt/A02102.txt /content/txt/A02103.txt /content/txt/A02104.txt /content/txt/A02201.txt /content/txt/A02202.txt /content/txt/A02203.txt /content/txt/A02301.txt /content/txt/A02302.txt /content/txt/A03101.txt /content/txt/A03102.txt /content/txt/A03103.txt /content/txt/A03201.txt /content/txt/A03202.txt /content/txt/A03301.txt /content/txt/A03302.txt /content/txt/A03303.txt /content/txt/A03304.txt /content/txt/A04101.txt /content/txt/A04102.txt /content/txt/A04103.txt /content/txt/A04104.txt /content/txt/A04105.txt /content/txt/A04106.txt /content/txt/A04201.txt /content/txt/A04202.txt /content/txt/A04203.txt /content/txt/A04204.txt /content/txt/A04301.txt /content/txt/A04302.txt /content/txt/A04303.txt /content/txt/A04304.txt /content/txt/A04305.txt /content/txt/A05101.txt /content/txt/A05102.txt /content/txt/A05103.txt /content/txt/A05104.txt /content/txt/A05105.txt /content/txt/A05107.txt /content/txt/A05109.txt /content/txt/A05201.txt /content/txt/A05301.txt /content/txt/A05302.txt /content/txt/A05303.txt /content/txt/A05304.txt /content/txt/A05401.txt /content/txt/A05402.txt /content/txt/A05403.txt /content/txt/A05404.txt /content/txt/A05405.txt /content/txt/A05501.txt /content/txt/A05502.txt /content/txt/A05503.txt /content/txt/A05504.txt /content/txt/A05506.txt /content/txt/A05601.txt /content/txt/A05602.txt /content/txt/A05603.txt /content/txt/A05604.txt /content/txt/A05605.txt /content/txt/A05606.txt /content/txt/A05701.txt /content/txt/A05702.txt /content/txt/A05703.txt /content/txt/A05704.txt /content/txt/A05705.txt /content/txt/A05706.txt /content/txt/A05801.txt /content/txt/A05802.txt /content/txt/A05803.txt /content/txt/A05804.txt /content/txt/A06101.txt /content/txt/A06102.txt /content/txt/A06103.txt /content/txt/A06104.txt /content/txt/A06105.txt /content/txt/A06106.txt /content/txt/A06107.txt /content/txt/A06108.txt /content/txt/A06109.txt /content/txt/A06110.txt /content/txt/A06111.txt /content/txt/A06112.txt /content/txt/A06113.txt /content/txt/A06114.txt /content/txt/A06115.txt /content/txt/A06116.txt /content/txt/A06117.txt /content/txt/A06201.txt /content/txt/A06202.txt /content/txt/A06203.txt /content/txt/A06204.txt /content/txt/A06205.txt /content/txt/A06206.txt /content/txt/A06301.txt /content/txt/A06302.txt /content/txt/A06303.txt /content/txt/A06304.txt /content/txt/A06305.txt /content/txt/A06306.txt /content/txt/A06307.txt /content/txt/A06308.txt /content/txt/A06309.txt /content/txt/A06310.txt /content/txt/A07101.txt /content/txt/A07102.txt /content/txt/A07103.txt /content/txt/A07104.txt /content/txt/A07105.txt /content/txt/A07106.txt /content/txt/A07107.txt /content/txt/A07108.txt /content/txt/A07109.txt /content/txt/A07110.txt /content/txt/A07201.txt /content/txt/A07202.txt /content/txt/A07203.txt /content/txt/A07301.txt /content/txt/A07302.txt /content/txt/A07303.txt /content/txt/A07304.txt /content/txt/A07305.txt /content/txt/A07306.txt /content/txt/A07307.txt /content/txt/A07308.txt /content/txt/A07309.txt /content/txt/A07401.txt /content/txt/A07402.txt /content/txt/A07403.txt /content/txt/A07404.txt /content/txt/A07405.txt /content/txt/A07406.txt /content/txt/A07407.txt /content/txt/A07408.txt /content/txt/A08101.txt /content/txt/A08102.txt /content/txt/A08103.txt /content/txt/A08104.txt /content/txt/A08105.txt /content/txt/A08106.txt /content/txt/A08107.txt /content/txt/A08108.txt /content/txt/A08109.txt /content/txt/A08110.txt /content/txt/A08111.txt /content/txt/A08112.txt /content/txt/A08201.txt /content/txt/A08202.txt /content/txt/A08203.txt /content/txt/A08204.txt /content/txt/A08205.txt /content/txt/A08206.txt /content/txt/A08207.txt /content/txt/A08301.txt /content/txt/A08302.txt /content/txt/A08303.txt /content/txt/A08304.txt /content/txt/A08305.txt /content/txt/A08306.txt /content/txt/A08307.txt /content/txt/A08308.txt /content/txt/A08309.txt /content/txt/A08310.txt /content/txt/A08311.txt /content/txt/A08312.txt /content/txt/A08313.txt /content/txt/A08314.txt /content/txt/A09101.txt /content/txt/A09102.txt /content/txt/A09103.txt /content/txt/A09104.txt /content/txt/A09105.txt /content/txt/A09106.txt /content/txt/A09107.txt /content/txt/A09108.txt /content/txt/A09109.txt /content/txt/A09110.txt /content/txt/A09111.txt /content/txt/A09112.txt /content/txt/A09113.txt /content/txt/A09114.txt /content/txt/A09115.txt /content/txt/A09116.txt /content/txt/A09117.txt /content/txt/A09118.txt /content/txt/A09119.txt /content/txt/A09120.txt /content/txt/A09121.txt /content/txt/A09201.txt /content/txt/A09202.txt /content/txt/A09203.txt /content/txt/A09204.txt /content/txt/A09205.txt /content/txt/A09206.txt /content/txt/A09207.txt /content/txt/A09208.txt /content/txt/A09209.txt /content/txt/A09210.txt /content/txt/A09211.txt /content/txt/A10101.txt /content/txt/A10102.txt /content/txt/A10103.txt /content/txt/A10104.txt /content/txt/A10105.txt /content/txt/A10106.txt /content/txt/A10107.txt /content/txt/A10108.txt /content/txt/A10109.txt /content/txt/A10201.txt /content/txt/A10202.txt /content/txt/A10203.txt /content/txt/A10204.txt /content/txt/A10205.txt /content/txt/A10206.txt /content/txt/A10207.txt /content/txt/A10208.txt /content/txt/A10209.txt /content/txt/A10210.txt /content/txt/A10301.txt /content/txt/A10302.txt /content/txt/A10303.txt /content/txt/A10304.txt /content/txt/A10305.txt /content/txt/A10306.txt /content/txt/A10307.txt /content/txt/A10401.txt /content/txt/A10402.txt /content/txt/A10403.txt /content/txt/A10404.txt /content/txt/A11101.txt /content/txt/A11102.txt /content/txt/A11201.txt /content/txt/A11202.txt /content/txt/A11203.txt /content/txt/A11301.txt /content/txt/A11302.txt /content/txt/A11303.txt /content/txt/A11401.txt /content/txt/A11402.txt /content/txt/A12101.txt /content/txt/A12102.txt /content/txt/A12103.txt /content/txt/A12104.txt /content/txt/A12201.txt /content/txt/A12202.txt /content/txt/A12301.txt /content/txt/A12302.txt /content/txt/A12303.txt /content/txt/A12401.txt /content/txt/A12402.txt /content/txt/A13101.txt /content/txt/A13102.txt /content/txt/A13103.txt /content/txt/A13104.txt /content/txt/A13105.txt /content/txt/A13106.txt /content/txt/A13107.txt /content/txt/A13108.txt /content/txt/A13109.txt /content/txt/A13110.txt /content/txt/A13111.txt /content/txt/A13112.txt /content/txt/A13113.txt /content/txt/A13114.txt /content/txt/A13115.txt /content/txt/A13116.txt /content/txt/A13117.txt /content/txt/A13118.txt /content/txt/A13119.txt /content/txt/A13120.txt /content/txt/A13121.txt /content/txt/A13122.txt /content/txt/A13123.txt /content/txt/A13124.txt /content/txt/A13125.txt /content/txt/A13126.txt /content/txt/A13127.txt /content/txt/A13128.txt /content/txt/A13129.txt /content/txt/A13130.txt /content/txt/A13131.txt /content/txt/A13132.txt /content/txt/A13201.txt /content/txt/A13202.txt /content/txt/A13203.txt /content/txt/A13301.txt /content/txt/A13302.txt /content/txt/A13303.txt /content/txt/A13401.txt /content/txt/A13402.txt /content/txt/A13403.txt /content/txt/A13404.txt /content/txt/A13501.txt /content/txt/A13502.txt /content/txt/A13503.txt /content/txt/A13504.txt /content/txt/A13505.txt /content/txt/A13601.txt /content/txt/A13602.txt /content/txt/A13603.txt /content/txt/A13604.txt /content/txt/A13605.txt /content/txt/A14101.txt /content/txt/A14102.txt /content/txt/A14103.txt /content/txt/A14104.txt /content/txt/A14105.txt /content/txt/A14106.txt /content/txt/A14107.txt /content/txt/A14108.txt /content/txt/A14201.txt /content/txt/A14202.txt /content/txt/A14203.txt /content/txt/A14204.txt /content/txt/A15101.txt /content/txt/A15102.txt /content/txt/A15201.txt /content/txt/A15202.txt /content/txt/A16101.txt /content/txt/A16102.txt /content/txt/A16103.txt /content/txt/A16104.txt /content/txt/A16105.txt /content/txt/A16106.txt /content/txt/A16107.txt /content/txt/A16108.txt /content/txt/A16109.txt /content/txt/A16201.txt /content/txt/A16202.txt /content/txt/A16203.txt /content/txt/A16204.txt /content/txt/A16205.txt /content/txt/A16206.txt /content/txt/A16207.txt /content/txt/A16301.txt /content/txt/A16302.txt /content/txt/A16303.txt /content/txt/A16304.txt /content/txt/A16305.txt /content/txt/Nomina_Auditada_Inhabilitados_Chile.txt /content/txt/Nomina_Inhabilitados_Extranjero.txt /content/txt/Padron_Electoral_Extranjero.txt \n"
          ],
          "name": "stdout"
        }
      ]
    },
    {
      "cell_type": "code",
      "metadata": {
        "id": "-9Cihd5QrwrO"
      },
      "source": [
        "import pandas as pd\n",
        "df= pd.read_csv(\"/content/drive/My Drive/finalrut.txt\", error_bad_lines=False, header=None)\n",
        "df.drop_duplicates(keep=False,inplace=True)\n",
        "df.to_csv(\"/content/drive/My Drive/finalrut.txt\", header=False, index=False)"
      ],
      "execution_count": null,
      "outputs": []
    }
  ]
}